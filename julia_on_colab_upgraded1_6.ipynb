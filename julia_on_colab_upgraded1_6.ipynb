{
  "nbformat": 4,
  "nbformat_minor": 0,
  "metadata": {
    "accelerator": "GPU",
    "colab": {
      "name": "julia_on_colab_upgraded1_6.ipynb",
      "provenance": [],
      "include_colab_link": true
    },
    "kernelspec": {
      "display_name": "Julia 1.6",
      "language": "julia",
      "name": "julia-1.6"
    },
    "language_info": {
      "file_extension": ".jl",
      "mimetype": "application/julia",
      "name": "julia",
      "version": "1.6.0"
    }
  },
  "cells": [
    {
      "cell_type": "markdown",
      "metadata": {
        "id": "view-in-github",
        "colab_type": "text"
      },
      "source": [
        "<a href=\"https://colab.research.google.com/github/cemyr/Julia-on-Colab/blob/master/julia_on_colab_upgraded1_6.ipynb\" target=\"_parent\"><img src=\"https://colab.research.google.com/assets/colab-badge.svg\" alt=\"Open In Colab\"/></a>"
      ]
    },
    {
      "cell_type": "code",
      "metadata": {
        "id": "PMGwZ7aFJL8Y",
        "colab": {
          "base_uri": "https://localhost:8080/"
        },
        "outputId": "8f88ab1d-272b-4808-af20-c2d5357097ca"
      },
      "source": [
        "# Installation cell\n",
        "%%shell\n",
        "if ! command -v julia 3>&1 > /dev/null\n",
        "then\n",
        "    wget -q 'https://julialang-s3.julialang.org/bin/linux/x64/1.6/julia-1.6.0-linux-x86_64.tar.gz' \\\n",
        "        -O /tmp/julia.tar.gz\n",
        "    tar -x -f /tmp/julia.tar.gz -C /usr/local --strip-components 1\n",
        "    rm /tmp/julia.tar.gz\n",
        "fi\n",
        "julia -e 'using Pkg; pkg\"add IJulia; precompile;\"'\n",
        "echo 'Done'"
      ],
      "execution_count": 1,
      "outputs": [
        {
          "output_type": "stream",
          "text": [
            "\u001b[33m\u001b[1m┌ \u001b[22m\u001b[39m\u001b[33m\u001b[1mWarning: \u001b[22m\u001b[39mThe Pkg REPL interface is intended for interactive use, use with caution from scripts.\n",
            "\u001b[33m\u001b[1m└ \u001b[22m\u001b[39m\u001b[90m@ Pkg.REPLMode /buildworker/worker/package_linux64/build/usr/share/julia/stdlib/v1.6/Pkg/src/REPLMode/REPLMode.jl:378\u001b[39m\n",
            "\u001b[32m\u001b[1m  Installing\u001b[22m\u001b[39m known registries into `~/.julia`\n",
            "\u001b[?25h\u001b[2K\u001b[32m\u001b[1m       Added\u001b[22m\u001b[39m registry `General` to `~/.julia/registries/General`\n",
            "\u001b[32m\u001b[1m   Resolving\u001b[22m\u001b[39m package versions...\n",
            "\u001b[?25l\u001b[S\u001b[1A\u001b[2K\u001b[1G\u001b[32m\u001b[1m   Installed\u001b[22m\u001b[39m VersionParsing ── v1.2.0\n",
            "\u001b[S\u001b[1A\u001b[2K\u001b[1G\u001b[32m\u001b[1m   Installed\u001b[22m\u001b[39m Conda ─────────── v1.5.1\n",
            "\u001b[S\u001b[1A\u001b[2K\u001b[1G\u001b[32m\u001b[1m   Installed\u001b[22m\u001b[39m SoftGlobalScope ─ v1.1.0\n",
            "\u001b[S\u001b[1A\u001b[2K\u001b[1G\u001b[32m\u001b[1m   Installed\u001b[22m\u001b[39m Parsers ───────── v1.1.0\n",
            "\u001b[S\u001b[1A\u001b[2K\u001b[1G\u001b[32m\u001b[1m   Installed\u001b[22m\u001b[39m libsodium_jll ─── v1.0.20+0\n",
            "\u001b[S\u001b[1A\u001b[2K\u001b[1G\u001b[32m\u001b[1m   Installed\u001b[22m\u001b[39m JSON ──────────── v0.21.1\n",
            "\u001b[S\u001b[1A\u001b[2K\u001b[1G\u001b[32m\u001b[1m   Installed\u001b[22m\u001b[39m IJulia ────────── v1.23.2\n",
            "\u001b[S\u001b[1A\u001b[2K\u001b[1G\u001b[32m\u001b[1m   Installed\u001b[22m\u001b[39m JLLWrappers ───── v1.2.0\n",
            "\u001b[S\u001b[1A\u001b[2K\u001b[1G\u001b[32m\u001b[1m   Installed\u001b[22m\u001b[39m ZMQ ───────────── v1.2.1\n",
            "\u001b[S\u001b[1A\u001b[2K\u001b[1G\u001b[32m\u001b[1m   Installed\u001b[22m\u001b[39m ZeroMQ_jll ────── v4.3.2+6\n",
            "\u001b[S\u001b[1A\u001b[2K\u001b[1G\u001b[32m\u001b[1m   Installed\u001b[22m\u001b[39m MbedTLS ───────── v1.0.3\n",
            "\u001b[?25h\u001b[2K\u001b[S\u001b[1A\u001b[2K\u001b[1G\u001b[32m\u001b[1m Downloading\u001b[22m\u001b[39m artifact: libsodium\n",
            "\u001b[?25h\u001b[2K\u001b[1A\u001b[2K\u001b[32m\u001b[1m  Downloaded\u001b[22m\u001b[39m artifact: libsodium\n",
            "\u001b[S\u001b[1A\u001b[2K\u001b[1G\u001b[32m\u001b[1m Downloading\u001b[22m\u001b[39m artifact: ZeroMQ\n",
            "\u001b[?25h\u001b[2K\u001b[1A\u001b[2K\u001b[32m\u001b[1m  Downloaded\u001b[22m\u001b[39m artifact: ZeroMQ\n",
            "\u001b[32m\u001b[1m    Updating\u001b[22m\u001b[39m `~/.julia/environments/v1.6/Project.toml`\n",
            " \u001b[90m [7073ff75] \u001b[39m\u001b[92m+ IJulia v1.23.2\u001b[39m\n",
            "\u001b[32m\u001b[1m    Updating\u001b[22m\u001b[39m `~/.julia/environments/v1.6/Manifest.toml`\n",
            " \u001b[90m [8f4d0f93] \u001b[39m\u001b[92m+ Conda v1.5.1\u001b[39m\n",
            " \u001b[90m [7073ff75] \u001b[39m\u001b[92m+ IJulia v1.23.2\u001b[39m\n",
            " \u001b[90m [692b3bcd] \u001b[39m\u001b[92m+ JLLWrappers v1.2.0\u001b[39m\n",
            " \u001b[90m [682c06a0] \u001b[39m\u001b[92m+ JSON v0.21.1\u001b[39m\n",
            " \u001b[90m [739be429] \u001b[39m\u001b[92m+ MbedTLS v1.0.3\u001b[39m\n",
            " \u001b[90m [69de0a69] \u001b[39m\u001b[92m+ Parsers v1.1.0\u001b[39m\n",
            " \u001b[90m [b85f4697] \u001b[39m\u001b[92m+ SoftGlobalScope v1.1.0\u001b[39m\n",
            " \u001b[90m [81def892] \u001b[39m\u001b[92m+ VersionParsing v1.2.0\u001b[39m\n",
            " \u001b[90m [c2297ded] \u001b[39m\u001b[92m+ ZMQ v1.2.1\u001b[39m\n",
            " \u001b[90m [8f1865be] \u001b[39m\u001b[92m+ ZeroMQ_jll v4.3.2+6\u001b[39m\n",
            " \u001b[90m [a9144af2] \u001b[39m\u001b[92m+ libsodium_jll v1.0.20+0\u001b[39m\n",
            " \u001b[90m [0dad84c5] \u001b[39m\u001b[92m+ ArgTools\u001b[39m\n",
            " \u001b[90m [56f22d72] \u001b[39m\u001b[92m+ Artifacts\u001b[39m\n",
            " \u001b[90m [2a0f44e3] \u001b[39m\u001b[92m+ Base64\u001b[39m\n",
            " \u001b[90m [ade2ca70] \u001b[39m\u001b[92m+ Dates\u001b[39m\n",
            " \u001b[90m [f43a241f] \u001b[39m\u001b[92m+ Downloads\u001b[39m\n",
            " \u001b[90m [7b1f6079] \u001b[39m\u001b[92m+ FileWatching\u001b[39m\n",
            " \u001b[90m [b77e0a4c] \u001b[39m\u001b[92m+ InteractiveUtils\u001b[39m\n",
            " \u001b[90m [b27032c2] \u001b[39m\u001b[92m+ LibCURL\u001b[39m\n",
            " \u001b[90m [76f85450] \u001b[39m\u001b[92m+ LibGit2\u001b[39m\n",
            " \u001b[90m [8f399da3] \u001b[39m\u001b[92m+ Libdl\u001b[39m\n",
            " \u001b[90m [56ddb016] \u001b[39m\u001b[92m+ Logging\u001b[39m\n",
            " \u001b[90m [d6f4376e] \u001b[39m\u001b[92m+ Markdown\u001b[39m\n",
            " \u001b[90m [a63ad114] \u001b[39m\u001b[92m+ Mmap\u001b[39m\n",
            " \u001b[90m [ca575930] \u001b[39m\u001b[92m+ NetworkOptions\u001b[39m\n",
            " \u001b[90m [44cfe95a] \u001b[39m\u001b[92m+ Pkg\u001b[39m\n",
            " \u001b[90m [de0858da] \u001b[39m\u001b[92m+ Printf\u001b[39m\n",
            " \u001b[90m [3fa0cd96] \u001b[39m\u001b[92m+ REPL\u001b[39m\n",
            " \u001b[90m [9a3f8284] \u001b[39m\u001b[92m+ Random\u001b[39m\n",
            " \u001b[90m [ea8e919c] \u001b[39m\u001b[92m+ SHA\u001b[39m\n",
            " \u001b[90m [9e88b42a] \u001b[39m\u001b[92m+ Serialization\u001b[39m\n",
            " \u001b[90m [6462fe0b] \u001b[39m\u001b[92m+ Sockets\u001b[39m\n",
            " \u001b[90m [fa267f1f] \u001b[39m\u001b[92m+ TOML\u001b[39m\n",
            " \u001b[90m [a4e569a6] \u001b[39m\u001b[92m+ Tar\u001b[39m\n",
            " \u001b[90m [8dfed614] \u001b[39m\u001b[92m+ Test\u001b[39m\n",
            " \u001b[90m [cf7118a7] \u001b[39m\u001b[92m+ UUIDs\u001b[39m\n",
            " \u001b[90m [4ec0a83e] \u001b[39m\u001b[92m+ Unicode\u001b[39m\n",
            " \u001b[90m [deac9b47] \u001b[39m\u001b[92m+ LibCURL_jll\u001b[39m\n",
            " \u001b[90m [29816b5a] \u001b[39m\u001b[92m+ LibSSH2_jll\u001b[39m\n",
            " \u001b[90m [c8ffd9c3] \u001b[39m\u001b[92m+ MbedTLS_jll\u001b[39m\n",
            " \u001b[90m [14a3606d] \u001b[39m\u001b[92m+ MozillaCACerts_jll\u001b[39m\n",
            " \u001b[90m [83775a58] \u001b[39m\u001b[92m+ Zlib_jll\u001b[39m\n",
            " \u001b[90m [8e850ede] \u001b[39m\u001b[92m+ nghttp2_jll\u001b[39m\n",
            " \u001b[90m [3f19e933] \u001b[39m\u001b[92m+ p7zip_jll\u001b[39m\n",
            "\u001b[?25l\u001b[S\u001b[1A\u001b[2K\u001b[1G\u001b[32m\u001b[1m    Building\u001b[22m\u001b[39m Conda ─→ `~/.julia/scratchspaces/44cfe95a-1eb2-52ea-b672-e2afdf69b78f/6231e40619c15148bcb80aa19d731e629877d762/build.log`\n",
            "\u001b[S\u001b[1A\u001b[2K\u001b[1G\u001b[32m\u001b[1m    Building\u001b[22m\u001b[39m IJulia → `~/.julia/scratchspaces/44cfe95a-1eb2-52ea-b672-e2afdf69b78f/d8b9c31196e1dd92181cd0f5760ca2d2ffb4ac0f/build.log`\n",
            "\u001b[?25h\u001b[2K\u001b[32m\u001b[1mPrecompiling\u001b[22m\u001b[39m project...\n",
            "\u001b[?25l  \u001b[36m\u001b[1mProgress\u001b[22m\u001b[39m [>                                        ]  0/10\n",
            "  \u001b[90m◑\u001b[39m \u001b[90mMbedTLS_jll\u001b[39m\n",
            "  \u001b[90m◒\u001b[39m \u001b[90mZlib_jll\u001b[39m\n",
            "  \u001b[90m◐\u001b[39m \u001b[90mSoftGlobalScope\u001b[39m\n",
            "\u001b[4A\u001b[1G\u001b[0J\n",
            "  \u001b[90m◒\u001b[39m \u001b[90mMbedTLS_jll\u001b[39m\n",
            "  \u001b[90m◐\u001b[39m \u001b[90mZlib_jll\u001b[39m\n",
            "  \u001b[90m◓\u001b[39m \u001b[90mSoftGlobalScope\u001b[39m\n",
            "\u001b[4A\u001b[1G\u001b[0J\n",
            "  \u001b[90m◐\u001b[39m \u001b[90mMbedTLS_jll\u001b[39m\n",
            "  \u001b[90m◓\u001b[39m \u001b[90mZlib_jll\u001b[39m\n",
            "  \u001b[90m◑\u001b[39m \u001b[90mSoftGlobalScope\u001b[39m\n",
            "\u001b[4A\u001b[1G\u001b[0J\n",
            "  \u001b[90m◓\u001b[39m \u001b[90mMbedTLS_jll\u001b[39m\n",
            "  \u001b[90m◑\u001b[39m \u001b[90mZlib_jll\u001b[39m\n",
            "  \u001b[90m◒\u001b[39m \u001b[90mSoftGlobalScope\u001b[39m\n",
            "\u001b[4A\u001b[1G\u001b[0J\n",
            "  \u001b[90m◑\u001b[39m \u001b[90mMbedTLS_jll\u001b[39m\n",
            "  \u001b[90m◒\u001b[39m \u001b[90mZlib_jll\u001b[39m\n",
            "  \u001b[90m◐\u001b[39m \u001b[90mSoftGlobalScope\u001b[39m\n",
            "\u001b[4A\u001b[1G\u001b[0J\n",
            "  \u001b[90m◒\u001b[39m \u001b[90mMbedTLS_jll\u001b[39m\n",
            "\u001b[32m  ✓ \u001b[39m\u001b[90mZlib_jll\u001b[39m\n",
            "  \u001b[90m◓\u001b[39m \u001b[90mSoftGlobalScope\u001b[39m\n",
            "  \u001b[90m◐\u001b[39m \u001b[90mJLLWrappers\u001b[39m\n",
            "\u001b[5A\u001b[1G\u001b[0J\n",
            "\u001b[32m  ✓ \u001b[39m\u001b[90mMbedTLS_jll\u001b[39m\n",
            "\u001b[32m  ✓ \u001b[39m\u001b[90mZlib_jll\u001b[39m\n",
            "  \u001b[90m◑\u001b[39m \u001b[90mSoftGlobalScope\u001b[39m\n",
            "  \u001b[90m◓\u001b[39m \u001b[90mJLLWrappers\u001b[39m\n",
            "  \u001b[90m◒\u001b[39m \u001b[90mLibSSH2_jll\u001b[39m\n",
            "\u001b[6A\u001b[1G\u001b[0J\n",
            "\u001b[32m  ✓ \u001b[39m\u001b[90mMbedTLS_jll\u001b[39m\n",
            "\u001b[32m  ✓ \u001b[39m\u001b[90mZlib_jll\u001b[39m\n",
            "  \u001b[90m◒\u001b[39m \u001b[90mSoftGlobalScope\u001b[39m\n",
            "  \u001b[90m◑\u001b[39m \u001b[90mJLLWrappers\u001b[39m\n",
            "  \u001b[90m◐\u001b[39m \u001b[90mLibSSH2_jll\u001b[39m\n",
            "\u001b[6A\u001b[1G\u001b[0J\n",
            "\u001b[32m  ✓ \u001b[39m\u001b[90mMbedTLS_jll\u001b[39m\n",
            "\u001b[32m  ✓ \u001b[39m\u001b[90mZlib_jll\u001b[39m\n",
            "\u001b[32m  ✓ \u001b[39m\u001b[90mSoftGlobalScope\u001b[39m\n",
            "  \u001b[90m◒\u001b[39m \u001b[90mJLLWrappers\u001b[39m\n",
            "  \u001b[90m◓\u001b[39m \u001b[90mLibSSH2_jll\u001b[39m\n",
            "  \u001b[90m◑\u001b[39m \u001b[90mMbedTLS\u001b[39m\n",
            "\u001b[7A\u001b[1G\u001b[0J\n",
            "\u001b[32m  ✓ \u001b[39m\u001b[90mMbedTLS_jll\u001b[39m\n",
            "\u001b[32m  ✓ \u001b[39m\u001b[90mZlib_jll\u001b[39m\n",
            "\u001b[32m  ✓ \u001b[39m\u001b[90mSoftGlobalScope\u001b[39m\n",
            "  \u001b[90m◐\u001b[39m \u001b[90mJLLWrappers\u001b[39m\n",
            "  \u001b[90m◑\u001b[39m \u001b[90mLibSSH2_jll\u001b[39m\n",
            "  \u001b[90m◒\u001b[39m \u001b[90mMbedTLS\u001b[39m\n",
            "\u001b[7A\u001b[1G\u001b[0J\n",
            "\u001b[32m  ✓ \u001b[39m\u001b[90mMbedTLS_jll\u001b[39m\n",
            "\u001b[32m  ✓ \u001b[39m\u001b[90mZlib_jll\u001b[39m\n",
            "\u001b[32m  ✓ \u001b[39m\u001b[90mSoftGlobalScope\u001b[39m\n",
            "  \u001b[90m◓\u001b[39m \u001b[90mJLLWrappers\u001b[39m\n",
            "  \u001b[90m◒\u001b[39m \u001b[90mLibSSH2_jll\u001b[39m\n",
            "  \u001b[90m◐\u001b[39m \u001b[90mMbedTLS\u001b[39m\n",
            "\u001b[7A\u001b[1G\u001b[0J\n",
            "\u001b[32m  ✓ \u001b[39m\u001b[90mMbedTLS_jll\u001b[39m\n",
            "\u001b[32m  ✓ \u001b[39m\u001b[90mZlib_jll\u001b[39m\n",
            "\u001b[32m  ✓ \u001b[39m\u001b[90mSoftGlobalScope\u001b[39m\n",
            "  \u001b[90m◑\u001b[39m \u001b[90mJLLWrappers\u001b[39m\n",
            "  \u001b[90m◐\u001b[39m \u001b[90mLibSSH2_jll\u001b[39m\n",
            "  \u001b[90m◓\u001b[39m \u001b[90mMbedTLS\u001b[39m\n",
            "\u001b[7A\u001b[1G\u001b[0J\n",
            "\u001b[32m  ✓ \u001b[39m\u001b[90mMbedTLS_jll\u001b[39m\n",
            "\u001b[32m  ✓ \u001b[39m\u001b[90mZlib_jll\u001b[39m\n",
            "\u001b[32m  ✓ \u001b[39m\u001b[90mSoftGlobalScope\u001b[39m\n",
            "  \u001b[90m◒\u001b[39m \u001b[90mJLLWrappers\u001b[39m\n",
            "  \u001b[90m◓\u001b[39m \u001b[90mLibSSH2_jll\u001b[39m\n",
            "  \u001b[90m◑\u001b[39m \u001b[90mMbedTLS\u001b[39m\n",
            "\u001b[7A\u001b[1G\u001b[0J\n",
            "\u001b[32m  ✓ \u001b[39m\u001b[90mMbedTLS_jll\u001b[39m\n",
            "\u001b[32m  ✓ \u001b[39m\u001b[90mZlib_jll\u001b[39m\n",
            "\u001b[32m  ✓ \u001b[39m\u001b[90mSoftGlobalScope\u001b[39m\n",
            "  \u001b[90m◐\u001b[39m \u001b[90mJLLWrappers\u001b[39m\n",
            "\u001b[32m  ✓ \u001b[39m\u001b[90mLibSSH2_jll\u001b[39m\n",
            "  \u001b[90m◒\u001b[39m \u001b[90mMbedTLS\u001b[39m\n",
            "\u001b[7A\u001b[1G\u001b[0J\n",
            "\u001b[32m  ✓ \u001b[39m\u001b[90mMbedTLS_jll\u001b[39m\n",
            "\u001b[32m  ✓ \u001b[39m\u001b[90mZlib_jll\u001b[39m\n",
            "\u001b[32m  ✓ \u001b[39m\u001b[90mSoftGlobalScope\u001b[39m\n",
            "\u001b[32m  ✓ \u001b[39m\u001b[90mJLLWrappers\u001b[39m\n",
            "\u001b[32m  ✓ \u001b[39m\u001b[90mLibSSH2_jll\u001b[39m\n",
            "  \u001b[90m◐\u001b[39m \u001b[90mMbedTLS\u001b[39m\n",
            "  \u001b[90m◒\u001b[39m \u001b[90mlibsodium_jll\u001b[39m\n",
            "\u001b[8A\u001b[1G\u001b[0J\n",
            "\u001b[32m  ✓ \u001b[39m\u001b[90mMbedTLS_jll\u001b[39m\n",
            "\u001b[32m  ✓ \u001b[39m\u001b[90mZlib_jll\u001b[39m\n",
            "\u001b[32m  ✓ \u001b[39m\u001b[90mSoftGlobalScope\u001b[39m\n",
            "\u001b[32m  ✓ \u001b[39m\u001b[90mJLLWrappers\u001b[39m\n",
            "\u001b[32m  ✓ \u001b[39m\u001b[90mLibSSH2_jll\u001b[39m\n",
            "  \u001b[90m◓\u001b[39m \u001b[90mMbedTLS\u001b[39m\n",
            "  \u001b[90m◐\u001b[39m \u001b[90mlibsodium_jll\u001b[39m\n",
            "\u001b[8A\u001b[1G\u001b[0J\n",
            "\u001b[32m  ✓ \u001b[39m\u001b[90mSoftGlobalScope\u001b[39m\n",
            "\u001b[32m  ✓ \u001b[39m\u001b[90mJLLWrappers\u001b[39m\n",
            "\u001b[32m  ✓ \u001b[39m\u001b[90mLibSSH2_jll\u001b[39m\n",
            "  \u001b[90m◑\u001b[39m \u001b[90mMbedTLS\u001b[39m\n",
            "  \u001b[90m◓\u001b[39m \u001b[90mlibsodium_jll\u001b[39m\n",
            "\u001b[6A\u001b[1G\u001b[0J\n",
            "\u001b[32m  ✓ \u001b[39m\u001b[90mSoftGlobalScope\u001b[39m\n",
            "\u001b[32m  ✓ \u001b[39m\u001b[90mJLLWrappers\u001b[39m\n",
            "\u001b[32m  ✓ \u001b[39m\u001b[90mLibSSH2_jll\u001b[39m\n",
            "  \u001b[90m◒\u001b[39m \u001b[90mMbedTLS\u001b[39m\n",
            "  \u001b[90m◑\u001b[39m \u001b[90mlibsodium_jll\u001b[39m\n",
            "\u001b[6A\u001b[1G\u001b[0J\n",
            "\u001b[32m  ✓ \u001b[39m\u001b[90mJLLWrappers\u001b[39m\n",
            "\u001b[32m  ✓ \u001b[39m\u001b[90mLibSSH2_jll\u001b[39m\n",
            "  \u001b[90m◐\u001b[39m \u001b[90mMbedTLS\u001b[39m\n",
            "  \u001b[90m◒\u001b[39m \u001b[90mlibsodium_jll\u001b[39m\n",
            "\u001b[5A\u001b[1G\u001b[0J\n",
            "\u001b[32m  ✓ \u001b[39m\u001b[90mJLLWrappers\u001b[39m\n",
            "\u001b[32m  ✓ \u001b[39m\u001b[90mLibSSH2_jll\u001b[39m\n",
            "  \u001b[90m◓\u001b[39m \u001b[90mMbedTLS\u001b[39m\n",
            "  \u001b[90m◐\u001b[39m \u001b[90mlibsodium_jll\u001b[39m\n",
            "\u001b[5A\u001b[1G\u001b[0J\n",
            "\u001b[32m  ✓ \u001b[39m\u001b[90mJLLWrappers\u001b[39m\n",
            "\u001b[32m  ✓ \u001b[39m\u001b[90mLibSSH2_jll\u001b[39m\n",
            "\u001b[32m  ✓ \u001b[39m\u001b[90mMbedTLS\u001b[39m\n",
            "  \u001b[90m◓\u001b[39m \u001b[90mlibsodium_jll\u001b[39m\n",
            "\u001b[5A\u001b[1G\u001b[0J  \u001b[36m\u001b[1mProgress\u001b[22m\u001b[39m [========================>                ]  6/10\n",
            "\u001b[32m  ✓ \u001b[39m\u001b[90mJLLWrappers\u001b[39m\n",
            "\u001b[32m  ✓ \u001b[39m\u001b[90mLibSSH2_jll\u001b[39m\n",
            "\u001b[32m  ✓ \u001b[39m\u001b[90mMbedTLS\u001b[39m\n",
            "  \u001b[90m◑\u001b[39m \u001b[90mlibsodium_jll\u001b[39m\n",
            "\u001b[5A\u001b[1G\u001b[0J\n",
            "\u001b[32m  ✓ \u001b[39m\u001b[90mJLLWrappers\u001b[39m\n",
            "\u001b[32m  ✓ \u001b[39m\u001b[90mLibSSH2_jll\u001b[39m\n",
            "\u001b[32m  ✓ \u001b[39m\u001b[90mMbedTLS\u001b[39m\n",
            "  \u001b[90m◒\u001b[39m \u001b[90mlibsodium_jll\u001b[39m\n",
            "\u001b[5A\u001b[1G\u001b[0J\n",
            "\u001b[32m  ✓ \u001b[39m\u001b[90mJLLWrappers\u001b[39m\n",
            "\u001b[32m  ✓ \u001b[39m\u001b[90mMbedTLS\u001b[39m\n",
            "  \u001b[90m◐\u001b[39m \u001b[90mlibsodium_jll\u001b[39m\n",
            "\u001b[4A\u001b[1G\u001b[0J\n",
            "\u001b[32m  ✓ \u001b[39m\u001b[90mMbedTLS\u001b[39m\n",
            "\u001b[32m  ✓ \u001b[39m\u001b[90mlibsodium_jll\u001b[39m\n",
            "  \u001b[90m◒\u001b[39m \u001b[90mZeroMQ_jll\u001b[39m\n",
            "\u001b[4A\u001b[1G\u001b[0J\n",
            "\u001b[32m  ✓ \u001b[39m\u001b[90mMbedTLS\u001b[39m\n",
            "\u001b[32m  ✓ \u001b[39m\u001b[90mlibsodium_jll\u001b[39m\n",
            "  \u001b[90m◐\u001b[39m \u001b[90mZeroMQ_jll\u001b[39m\n",
            "\u001b[4A\u001b[1G\u001b[0J\n",
            "\u001b[32m  ✓ \u001b[39m\u001b[90mMbedTLS\u001b[39m\n",
            "\u001b[32m  ✓ \u001b[39m\u001b[90mlibsodium_jll\u001b[39m\n",
            "  \u001b[90m◓\u001b[39m \u001b[90mZeroMQ_jll\u001b[39m\n",
            "\u001b[4A\u001b[1G\u001b[0J\n",
            "\u001b[32m  ✓ \u001b[39m\u001b[90mMbedTLS\u001b[39m\n",
            "\u001b[32m  ✓ \u001b[39m\u001b[90mlibsodium_jll\u001b[39m\n",
            "  \u001b[90m◑\u001b[39m \u001b[90mZeroMQ_jll\u001b[39m\n",
            "\u001b[4A\u001b[1G\u001b[0J\n",
            "\u001b[32m  ✓ \u001b[39m\u001b[90mMbedTLS\u001b[39m\n",
            "\u001b[32m  ✓ \u001b[39m\u001b[90mlibsodium_jll\u001b[39m\n",
            "  \u001b[90m◒\u001b[39m \u001b[90mZeroMQ_jll\u001b[39m\n",
            "\u001b[4A\u001b[1G\u001b[0J\n",
            "\u001b[32m  ✓ \u001b[39m\u001b[90mMbedTLS\u001b[39m\n",
            "\u001b[32m  ✓ \u001b[39m\u001b[90mlibsodium_jll\u001b[39m\n",
            "  \u001b[90m◐\u001b[39m \u001b[90mZeroMQ_jll\u001b[39m\n",
            "\u001b[4A\u001b[1G\u001b[0J\n",
            "\u001b[32m  ✓ \u001b[39m\u001b[90mlibsodium_jll\u001b[39m\n",
            "  \u001b[90m◓\u001b[39m \u001b[90mZeroMQ_jll\u001b[39m\n",
            "\u001b[3A\u001b[1G\u001b[0J\n",
            "\u001b[32m  ✓ \u001b[39m\u001b[90mlibsodium_jll\u001b[39m\n",
            "  \u001b[90m◑\u001b[39m \u001b[90mZeroMQ_jll\u001b[39m\n",
            "\u001b[3A\u001b[1G\u001b[0J\n",
            "\u001b[32m  ✓ \u001b[39m\u001b[90mlibsodium_jll\u001b[39m\n",
            "  \u001b[90m◒\u001b[39m \u001b[90mZeroMQ_jll\u001b[39m\n",
            "\u001b[3A\u001b[1G\u001b[0J\n",
            "\u001b[32m  ✓ \u001b[39m\u001b[90mlibsodium_jll\u001b[39m\n",
            "\u001b[32m  ✓ \u001b[39m\u001b[90mZeroMQ_jll\u001b[39m\n",
            "  \u001b[90m◐\u001b[39m \u001b[90mZMQ\u001b[39m\n",
            "\u001b[4A\u001b[1G\u001b[0J\n",
            "\u001b[32m  ✓ \u001b[39m\u001b[90mZeroMQ_jll\u001b[39m\n",
            "  \u001b[90m◓\u001b[39m \u001b[90mZMQ\u001b[39m\n",
            "\u001b[3A\u001b[1G\u001b[0J\n",
            "\u001b[32m  ✓ \u001b[39m\u001b[90mZeroMQ_jll\u001b[39m\n",
            "  \u001b[90m◑\u001b[39m \u001b[90mZMQ\u001b[39m\n",
            "\u001b[3A\u001b[1G\u001b[0J\n",
            "\u001b[32m  ✓ \u001b[39m\u001b[90mZeroMQ_jll\u001b[39m\n",
            "  \u001b[90m◒\u001b[39m \u001b[90mZMQ\u001b[39m\n",
            "\u001b[3A\u001b[1G\u001b[0J\n",
            "\u001b[32m  ✓ \u001b[39m\u001b[90mZeroMQ_jll\u001b[39m\n",
            "  \u001b[90m◐\u001b[39m \u001b[90mZMQ\u001b[39m\n",
            "\u001b[3A\u001b[1G\u001b[0J\n",
            "\u001b[32m  ✓ \u001b[39m\u001b[90mZeroMQ_jll\u001b[39m\n",
            "  \u001b[90m◓\u001b[39m \u001b[90mZMQ\u001b[39m\n",
            "\u001b[3A\u001b[1G\u001b[0J\n",
            "\u001b[32m  ✓ \u001b[39m\u001b[90mZeroMQ_jll\u001b[39m\n",
            "  \u001b[90m◑\u001b[39m \u001b[90mZMQ\u001b[39m\n",
            "\u001b[3A\u001b[1G\u001b[0J\n",
            "\u001b[32m  ✓ \u001b[39m\u001b[90mZeroMQ_jll\u001b[39m\n",
            "  \u001b[90m◒\u001b[39m \u001b[90mZMQ\u001b[39m\n",
            "\u001b[3A\u001b[1G\u001b[0J  \u001b[36m\u001b[1mProgress\u001b[22m\u001b[39m [================================>        ]  8/10\n",
            "\u001b[32m  ✓ \u001b[39m\u001b[90mZeroMQ_jll\u001b[39m\n",
            "  \u001b[90m◐\u001b[39m \u001b[90mZMQ\u001b[39m\n",
            "\u001b[3A\u001b[1G\u001b[0J\n",
            "\u001b[32m  ✓ \u001b[39m\u001b[90mZeroMQ_jll\u001b[39m\n",
            "  \u001b[90m◓\u001b[39m \u001b[90mZMQ\u001b[39m\n",
            "\u001b[3A\u001b[1G\u001b[0J\n",
            "\u001b[32m  ✓ \u001b[39m\u001b[90mZMQ\u001b[39m\n",
            "  ◓ IJulia\n",
            "\u001b[3A\u001b[1G\u001b[0J\n",
            "\u001b[32m  ✓ \u001b[39m\u001b[90mZMQ\u001b[39m\n",
            "  ◑ IJulia\n",
            "\u001b[3A\u001b[1G\u001b[0J\n",
            "\u001b[32m  ✓ \u001b[39m\u001b[90mZMQ\u001b[39m\n",
            "  ◒ IJulia\n",
            "\u001b[3A\u001b[1G\u001b[0J\n",
            "\u001b[32m  ✓ \u001b[39m\u001b[90mZMQ\u001b[39m\n",
            "  ◐ IJulia\n",
            "\u001b[3A\u001b[1G\u001b[0J\n",
            "\u001b[32m  ✓ \u001b[39m\u001b[90mZMQ\u001b[39m\n",
            "  ◓ IJulia\n",
            "\u001b[3A\u001b[1G\u001b[0J\n",
            "\u001b[32m  ✓ \u001b[39m\u001b[90mZMQ\u001b[39m\n",
            "  ◑ IJulia\n",
            "\u001b[3A\u001b[1G\u001b[0J\n",
            "\u001b[32m  ✓ \u001b[39m\u001b[90mZMQ\u001b[39m\n",
            "  ◒ IJulia\n",
            "\u001b[3A\u001b[1G\u001b[0J\n",
            "\u001b[32m  ✓ \u001b[39m\u001b[90mZMQ\u001b[39m\n",
            "  ◐ IJulia\n",
            "\u001b[3A\u001b[1G\u001b[0J\n",
            "\u001b[32m  ✓ \u001b[39m\u001b[90mZMQ\u001b[39m\n",
            "  ◓ IJulia\n",
            "\u001b[3A\u001b[1G\u001b[0J\n",
            "\u001b[32m  ✓ \u001b[39m\u001b[90mZMQ\u001b[39m\n",
            "  ◑ IJulia\n",
            "\u001b[3A\u001b[1G\u001b[0J\n",
            "\u001b[32m  ✓ \u001b[39m\u001b[90mZMQ\u001b[39m\n",
            "  ◒ IJulia\n",
            "\u001b[3A\u001b[1G\u001b[0J\n",
            "  ◐ IJulia\n",
            "\u001b[2A\u001b[1G\u001b[0J\n",
            "  ◓ IJulia\n",
            "\u001b[2A\u001b[1G\u001b[0J\n",
            "  ◑ IJulia\n",
            "\u001b[2A\u001b[1G\u001b[0J\n",
            "\u001b[2A\u001b[1G\u001b[0J  \u001b[36m\u001b[1mProgress\u001b[22m\u001b[39m [========================================>]  10/10\n",
            "\u001b[?25h10 dependencies successfully precompiled in 7 seconds (4 already precompiled)\n",
            "\u001b[?25hDone\n"
          ],
          "name": "stdout"
        },
        {
          "output_type": "execute_result",
          "data": {
            "text/plain": [
              ""
            ]
          },
          "metadata": {
            "tags": []
          },
          "execution_count": 1
        }
      ]
    },
    {
      "cell_type": "markdown",
      "metadata": {
        "id": "FVTH64SWKG6q"
      },
      "source": [
        ""
      ]
    },
    {
      "cell_type": "markdown",
      "metadata": {
        "id": "XdMpcQduyaQc"
      },
      "source": [
        "After you run the first cell (the the cell directly above this text), go to Colab's menu bar and select **Edit** and select **Notebook settings** from the drop down. Select *Julia 1.6* as the runtime and *GPU* as the hadware accelerator.\n",
        "\n",
        "<br/>You should see somthing like this:\n",
        "\n",
        "> ![Colab Img](https://raw.githubusercontent.com/Dsantra92/Julia-on-Colab/1.5.3/misc/julia_menu.png)\n",
        "<br/>Click on SAVE\n",
        "<br/>**We are ready to get going**\n",
        "\n",
        "\n",
        "\n"
      ]
    },
    {
      "cell_type": "code",
      "metadata": {
        "id": "iIxu4TjlJnBG",
        "colab": {
          "base_uri": "https://localhost:8080/"
        },
        "outputId": "5b6db4ae-91c8-48d3-ba89-d986268e28a6"
      },
      "source": [
        "VERSION"
      ],
      "execution_count": 1,
      "outputs": [
        {
          "output_type": "execute_result",
          "data": {
            "text/plain": [
              "v\"1.6.0\""
            ]
          },
          "metadata": {
            "tags": []
          },
          "execution_count": 1
        }
      ]
    },
    {
      "cell_type": "markdown",
      "metadata": {
        "id": "rR7Ox6Ax0ypi"
      },
      "source": [
        "The main reason we are interested in running Julia on Colab is the GPU functionality. So let us benchmark the performance on the GPU.<br>**The next three cells are optional and are for people using it for the first time.**"
      ]
    },
    {
      "cell_type": "markdown",
      "metadata": {
        "id": "0y5TUI-Ll4cY"
      },
      "source": [
        "### Optional GPU Experiments"
      ]
    },
    {
      "cell_type": "code",
      "metadata": {
        "id": "vHKANz2J0GDW",
        "colab": {
          "base_uri": "https://localhost:8080/"
        },
        "outputId": "fcdd30cb-3b28-49c4-85d3-6d5d840498f3"
      },
      "source": [
        "using Pkg\n",
        "Pkg.add([\"BenchmarkTools\", \"CUDA\"])\n",
        "using BenchmarkTools, CUDA"
      ],
      "execution_count": 8,
      "outputs": [
        {
          "output_type": "stream",
          "text": [
            "\u001b[32m\u001b[1m   Resolving\u001b[22m\u001b[39m package versions...\n",
            "\u001b[32m\u001b[1m  No Changes\u001b[22m\u001b[39m to `~/.julia/environments/v1.6/Project.toml`\n",
            "\u001b[32m\u001b[1m  No Changes\u001b[22m\u001b[39m to `~/.julia/environments/v1.6/Manifest.toml`\n"
          ],
          "name": "stderr"
        }
      ]
    },
    {
      "cell_type": "code",
      "metadata": {
        "id": "q7Mbcm00lnxO",
        "colab": {
          "base_uri": "https://localhost:8080/"
        },
        "outputId": "8ef888ae-0cb7-4cf4-9701-98996b9306e2"
      },
      "source": [
        "mcpu = rand(2^10, 2^10)\n",
        "@benchmark mcpu*mcpu"
      ],
      "execution_count": 9,
      "outputs": [
        {
          "output_type": "execute_result",
          "data": {
            "text/plain": [
              "BenchmarkTools.Trial: \n",
              "  memory estimate:  8.00 MiB\n",
              "  allocs estimate:  2\n",
              "  --------------\n",
              "  minimum time:     49.776 ms (0.00% GC)\n",
              "  median time:      50.989 ms (0.00% GC)\n",
              "  mean time:        52.007 ms (0.63% GC)\n",
              "  maximum time:     66.799 ms (2.94% GC)\n",
              "  --------------\n",
              "  samples:          97\n",
              "  evals/sample:     1"
            ]
          },
          "metadata": {
            "tags": []
          },
          "execution_count": 9
        }
      ]
    },
    {
      "cell_type": "code",
      "metadata": {
        "id": "aMI2QjTuyXs2",
        "colab": {
          "base_uri": "https://localhost:8080/"
        },
        "outputId": "51e965ac-0efa-498d-8f68-00aa0f81d8fc"
      },
      "source": [
        "println(\"The CuArrray operation should take around 5 ms(excluding CUDA downloading time which is a one time process), and should be much faster. If so, the GPU is working.\")\n",
        "mgpu = cu(mcpu)\n",
        "@benchmark CUDA.@sync mgpu*mgpu"
      ],
      "execution_count": 10,
      "outputs": [
        {
          "output_type": "stream",
          "text": [
            "The CuArrray operation should take around 5 ms(excluding CUDA downloading time which is a one time process), and should be much faster. If so, the GPU is working.\n"
          ],
          "name": "stdout"
        },
        {
          "output_type": "execute_result",
          "data": {
            "text/plain": [
              "BenchmarkTools.Trial: \n",
              "  memory estimate:  896 bytes\n",
              "  allocs estimate:  37\n",
              "  --------------\n",
              "  minimum time:     412.394 μs (0.00% GC)\n",
              "  median time:      464.272 μs (0.00% GC)\n",
              "  mean time:        479.570 μs (0.14% GC)\n",
              "  maximum time:     10.842 ms (34.18% GC)\n",
              "  --------------\n",
              "  samples:          10000\n",
              "  evals/sample:     1"
            ]
          },
          "metadata": {
            "tags": []
          },
          "execution_count": 10
        }
      ]
    }
  ]
}