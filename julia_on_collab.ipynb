{
 "cells": [
  {
   "cell_type": "code",
   "execution_count": null,
   "metadata": {
    "colab": {
     "base_uri": "https://localhost:8080/",
     "height": 52
    },
    "colab_type": "code",
    "id": "PMGwZ7aFJL8Y",
    "outputId": "45b0c9dd-1c74-49a3-ea40-8961a0fbfd4e"
   },
   "outputs": [],
   "source": [
    "# Installation cell\n",
    "%%shell\n",
    "if ! command -v julia 3>&1 > /dev/null\n",
    "then\n",
    "    wget 'https://julialang-s3.julialang.org/bin/linux/x64/1.4/julia-1.4.1-linux-x86_64.tar.gz' \\\n",
    "        -O /tmp/julia.tar.gz\n",
    "    tar -x -f /tmp/julia.tar.gz -C /usr/local --strip-components 1\n",
    "    rm /tmp/julia.tar.gz\n",
    "fi\n",
    "julia -e 'using Pkg; pkg\"add IJulia; precompile;\"'\n",
    "echo 'Done'"
   ]
  },
  {
   "cell_type": "markdown",
   "metadata": {
    "colab_type": "text",
    "id": "XdMpcQduyaQc"
   },
   "source": [
    "After you run the first cell (the the cell directly above this text), go to Colab's Edit menu and select Notebook settings from the drop down. Select *Julia 1.4.1* as the runtime and *GPU* as the hadware accelerator.\n",
    "\n",
    "<br/>You should see somthing like this:\n",
    "\n",
    "> ![alt text](https://drive.google.com/uc?id=1Cb2t75wWUjpe0m-G4tpo5LKy15SgpSGL)\n",
    "<br/>Click on SAVE\n",
    "<br/>**We are ready to get going**\n",
    "\n",
    "\n",
    "\n"
   ]
  },
  {
   "cell_type": "code",
   "execution_count": null,
   "metadata": {
    "colab": {
     "base_uri": "https://localhost:8080/",
     "height": 225
    },
    "colab_type": "code",
    "id": "iIxu4TjlJnBG",
    "outputId": "94923574-e95b-4e44-d49a-c5e123aebe94"
   },
   "outputs": [],
   "source": [
    "#Julia 1.4 Environment\n",
    "using Pkg\n",
    "pkg\"add BenchmarkTools; precompile;\"\n",
    "pkg\"add CuArrays; precompile;\""
   ]
  },
  {
   "cell_type": "markdown",
   "metadata": {
    "colab_type": "text",
    "id": "rR7Ox6Ax0ypi"
   },
   "source": [
    "The main reason we are interested in running Julia on Colab is the GPU functionality. We have already installed libraries in the previous cell, so let's benchmark Colab's GPU performance:"
   ]
  },
  {
   "cell_type": "code",
   "execution_count": null,
   "metadata": {
    "colab": {
     "base_uri": "https://localhost:8080/",
     "height": 208
    },
    "colab_type": "code",
    "id": "aMI2QjTuyXs2",
    "outputId": "81f4d964-5514-4f97-a9e3-170ac597b210"
   },
   "outputs": [],
   "source": [
    "using BenchmarkTools\n",
    "\n",
    "mcpu = rand(2^10, 2^10)\n",
    "@benchmark mcpu*mcpu"
   ]
  },
  {
   "cell_type": "code",
   "execution_count": null,
   "metadata": {
    "colab": {
     "base_uri": "https://localhost:8080/",
     "height": 312
    },
    "colab_type": "code",
    "id": "8cbQqjGB0Otl",
    "outputId": "caedaa90-cafa-4dff-e5f6-6f867a3402db"
   },
   "outputs": [],
   "source": [
    "using CuArrays\n",
    "\n",
    "mgpu = cu(mcpu)\n",
    "@benchmark CuArrays.@sync mgpu*mgpu"
   ]
  },
  {
   "cell_type": "markdown",
   "metadata": {
    "colab_type": "text",
    "id": "_Nhmie2E10dq"
   },
   "source": [
    "The CuArrray operation should take around 1 ms, and should be much faster. If so, the GPU is working."
   ]
  }
 ],
 "metadata": {
  "accelerator": "GPU",
  "colab": {
   "name": "julia_on_collab.ipynb",
   "provenance": []
  },
  "kernelspec": {
   "display_name": "Julia 1.4.1",
   "language": "julia",
   "name": "julia-1.4"
  },
  "language_info": {
   "file_extension": ".jl",
   "mimetype": "application/julia",
   "name": "julia",
   "version": "1.4.1"
  }
 },
 "nbformat": 4,
 "nbformat_minor": 1
}
