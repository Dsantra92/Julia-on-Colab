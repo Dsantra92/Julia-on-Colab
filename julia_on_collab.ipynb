{
  "nbformat": 4,
  "nbformat_minor": 0,
  "metadata": {
    "accelerator": "GPU",
    "colab": {
      "name": "julia_on_collab.ipynb",
      "provenance": []
    },
    "kernelspec": {
      "display_name": "Julia 1.4.1",
      "language": "julia",
      "name": "julia-1.4"
    },
    "language_info": {
      "file_extension": ".jl",
      "mimetype": "application/julia",
      "name": "julia",
      "version": "1.4.1"
    }
  },
  "cells": [
    {
      "cell_type": "code",
      "metadata": {
        "colab_type": "code",
        "id": "PMGwZ7aFJL8Y",
        "outputId": "45b0c9dd-1c74-49a3-ea40-8961a0fbfd4e",
        "colab": {
          "base_uri": "https://localhost:8080/",
          "height": 52
        }
      },
      "source": [
        "# Installation cell\n",
        "%%shell\n",
        "if ! command -v julia 3>&1 > /dev/null\n",
        "then\n",
        "    wget 'https://julialang-s3.julialang.org/bin/linux/x64/1.4/julia-1.4.1-linux-x86_64.tar.gz' \\\n",
        "        -O /tmp/julia.tar.gz\n",
        "    tar -x -f /tmp/julia.tar.gz -C /usr/local --strip-components 1\n",
        "    rm /tmp/julia.tar.gz\n",
        "fi\n",
        "julia -e 'using Pkg; pkg\"add IJulia; precompile;\"'\n",
        "echo 'Done'"
      ],
      "execution_count": 6,
      "outputs": [
        {
          "output_type": "display_data",
          "data": {
            "text/latex": "Unrecognized magic \\texttt{\\%\\%shell}.\n\nJulia does not use the IPython \\texttt{\\%magic} syntax.   To interact with the IJulia kernel, use \\texttt{IJulia.somefunction(...)}, for example.  Julia macros, string macros, and functions can be used to accomplish most of the other functionalities of IPython magics.\n\n",
            "text/markdown": "Unrecognized magic `%%shell`.\n\nJulia does not use the IPython `%magic` syntax.   To interact with the IJulia kernel, use `IJulia.somefunction(...)`, for example.  Julia macros, string macros, and functions can be used to accomplish most of the other functionalities of IPython magics.\n",
            "text/plain": [
              "  Unrecognized magic \u001b[36m%%shell\u001b[39m.\n",
              "\n",
              "  Julia does not use the IPython \u001b[36m%magic\u001b[39m syntax. To interact with the IJulia\n",
              "  kernel, use \u001b[36mIJulia.somefunction(...)\u001b[39m, for example. Julia macros, string\n",
              "  macros, and functions can be used to accomplish most of the other\n",
              "  functionalities of IPython magics."
            ]
          },
          "metadata": {
            "tags": []
          }
        }
      ]
    },
    {
      "cell_type": "markdown",
      "metadata": {
        "colab_type": "text",
        "id": "XdMpcQduyaQc"
      },
      "source": [
        "After you run the first cell (the the cell directly above this text), go to Colab's Edit menu and select Notebook settings from the drop down. Select *Julia 1.4.1* as the runtime and *GPU* as the hadware accelerator.\n",
        "\n",
        "<br/>You should see somthing like this:\n",
        "\n",
        "> ![alt text](https://drive.google.com/uc?id=1Cb2t75wWUjpe0m-G4tpo5LKy15SgpSGL)\n",
        "<br/>Click on SAVE\n",
        "<br/>**We are ready to get going**\n",
        "\n",
        "\n",
        "\n"
      ]
    },
    {
      "cell_type": "code",
      "metadata": {
        "colab_type": "code",
        "id": "iIxu4TjlJnBG",
        "outputId": "94923574-e95b-4e44-d49a-c5e123aebe94",
        "colab": {
          "base_uri": "https://localhost:8080/",
          "height": 225
        }
      },
      "source": [
        "#Julia 1.4 Environment\n",
        "using Pkg\n",
        "pkg\"add BenchmarkTools; precompile;\"\n",
        "pkg\"add CuArrays; precompile;\""
      ],
      "execution_count": 7,
      "outputs": [
        {
          "output_type": "stream",
          "text": [
            "\u001b[32m\u001b[1m  Resolving\u001b[22m\u001b[39m package versions...\n",
            "\u001b[32m\u001b[1m   Updating\u001b[22m\u001b[39m `~/.julia/environments/v1.4/Project.toml`\n",
            "\u001b[90m [no changes]\u001b[39m\n",
            "\u001b[32m\u001b[1m   Updating\u001b[22m\u001b[39m `~/.julia/environments/v1.4/Manifest.toml`\n",
            "\u001b[90m [no changes]\u001b[39m\n",
            "\u001b[32m\u001b[1mPrecompiling\u001b[22m\u001b[39m project...\n",
            "\u001b[32m\u001b[1m  Resolving\u001b[22m\u001b[39m package versions...\n",
            "\u001b[32m\u001b[1m   Updating\u001b[22m\u001b[39m `~/.julia/environments/v1.4/Project.toml`\n",
            "\u001b[90m [no changes]\u001b[39m\n",
            "\u001b[32m\u001b[1m   Updating\u001b[22m\u001b[39m `~/.julia/environments/v1.4/Manifest.toml`\n",
            "\u001b[90m [no changes]\u001b[39m\n",
            "\u001b[32m\u001b[1mPrecompiling\u001b[22m\u001b[39m project...\n"
          ],
          "name": "stderr"
        }
      ]
    },
    {
      "cell_type": "markdown",
      "metadata": {
        "colab_type": "text",
        "id": "rR7Ox6Ax0ypi"
      },
      "source": [
        "The main reason we are interested in running Julia on Colab is the GPU functionality. We have already installed libraries in the previous cell, so let's benchmark Colab's GPU performance:"
      ]
    },
    {
      "cell_type": "code",
      "metadata": {
        "colab_type": "code",
        "id": "aMI2QjTuyXs2",
        "colab": {
          "base_uri": "https://localhost:8080/",
          "height": 208
        },
        "outputId": "81f4d964-5514-4f97-a9e3-170ac597b210"
      },
      "source": [
        "using BenchmarkTools\n",
        "\n",
        "mcpu = rand(2^10, 2^10)\n",
        "@benchmark mcpu*mcpu"
      ],
      "execution_count": 8,
      "outputs": [
        {
          "output_type": "execute_result",
          "data": {
            "text/plain": [
              "BenchmarkTools.Trial: \n",
              "  memory estimate:  8.00 MiB\n",
              "  allocs estimate:  2\n",
              "  --------------\n",
              "  minimum time:     62.310 ms (0.00% GC)\n",
              "  median time:      64.531 ms (0.00% GC)\n",
              "  mean time:        65.881 ms (0.51% GC)\n",
              "  maximum time:     100.841 ms (0.00% GC)\n",
              "  --------------\n",
              "  samples:          76\n",
              "  evals/sample:     1"
            ]
          },
          "metadata": {
            "tags": []
          },
          "execution_count": 8
        }
      ]
    },
    {
      "cell_type": "code",
      "metadata": {
        "colab_type": "code",
        "id": "8cbQqjGB0Otl",
        "colab": {
          "base_uri": "https://localhost:8080/",
          "height": 312
        },
        "outputId": "caedaa90-cafa-4dff-e5f6-6f867a3402db"
      },
      "source": [
        "using CuArrays\n",
        "\n",
        "mgpu = cu(mcpu)\n",
        "@benchmark CuArrays.@sync mgpu*mgpu"
      ],
      "execution_count": 9,
      "outputs": [
        {
          "output_type": "stream",
          "text": [
            "\u001b[32m\u001b[1mDownloading\u001b[22m\u001b[39m artifact: CUDA10.1\n",
            "\u001b[?25l\u001b[1A\u001b[2K\u001b[?25h\u001b[32m\u001b[1mDownloading\u001b[22m\u001b[39m artifact: CUDNN+CUDA10.1\n",
            "\u001b[?25l\u001b[1A\u001b[2K\u001b[?25h\u001b[32m\u001b[1mDownloading\u001b[22m\u001b[39m artifact: CUTENSOR+CUDA10.1\n",
            "\u001b[?25l\u001b[1A\u001b[2K\u001b[?25h"
          ],
          "name": "stdout"
        },
        {
          "output_type": "stream",
          "text": [
            "#=#=#                                                                          \r\r######################################################################### 100.0%\r                                                                            0.0%\r#                                                                           2.4%\r##                                                                          4.0%\r###                                                                         5.0%\r####                                                                        6.3%\r####                                                                        6.4%\r######                                                                      8.2%\r######                                                                      9.4%\r#######                                                                     9.9%\r#########                                                                  12.6%\r###########                                                                15.3%\r############                                                               17.3%\r#############                                                              18.8%\r################                                                           22.0%\r##################                                                         25.0%\r##################                                                         25.5%\r####################                                                       27.7%\r####################                                                       28.4%\r######################                                                     30.5%\r#######################                                                    31.6%\r########################                                                   33.6%\r#########################                                                  35.2%\r##########################                                                 36.9%\r###########################                                                37.7%\r############################                                               38.8%\r############################                                               39.5%\r#############################                                              40.8%\r##############################                                             41.7%\r###############################                                            43.6%\r################################                                           43.9%\r#################################                                          45.6%\r##################################                                         47.0%\r###################################                                        48.2%\r####################################                                       49.6%\r#####################################                                      51.1%\r######################################                                     53.3%\r########################################                                   55.5%\r#########################################                                  56.5%\r##########################################                                 58.1%\r###########################################                                59.6%\r#############################################                              62.7%\r##############################################                             63.9%\r################################################                           65.9%\r################################################                           66.1%\r##################################################                         69.0%\r####################################################                       71.6%\r####################################################                       72.2%\r######################################################                     74.5%\r######################################################                     75.3%\r#######################################################                    75.7%\r########################################################                   76.7%\r########################################################                   77.4%\r#########################################################                  78.4%\r###########################################################                81.5%\r###########################################################                82.0%\r############################################################               83.2%\r############################################################               83.3%\r#############################################################              84.7%\r##############################################################             85.6%\r################################################################           87.8%\r#################################################################          89.7%\r##################################################################         91.0%\r####################################################################       94.1%\r#####################################################################      94.7%\r######################################################################     96.8%\r######################################################################     97.3%\r########################################################################   99.8%\r######################################################################### 100.0%\n",
            "#=#=#                                                                          \r\r######################################################################### 100.0%##O#- #                                                                        \r##=O#- #                                                                       \r\r                                                                            0.3%\r##                                                                          3.4%\r####                                                                        6.5%\r#######                                                                    10.2%\r#########                                                                  13.6%\r############                                                               16.6%\r############                                                               17.7%\r###############                                                            21.4%\r#################                                                          24.1%\r###################                                                        27.2%\r####################                                                       27.9%\r######################                                                     31.0%\r########################                                                   33.7%\r###########################                                                37.5%\r#############################                                              40.9%\r################################                                           44.3%\r##################################                                         47.7%\r#####################################                                      52.0%\r#########################################                                  57.3%\r##########################################                                 57.9%\r############################################                               61.3%\r#################################################                          67.1%\r##################################################                         69.8%\r####################################################                       71.8%\r#####################################################                      73.3%\r########################################################                   78.0%\r###########################################################                81.7%\r##############################################################             85.1%\r################################################################           88.5%\r####################################################################       93.4%\r########################################################################   98.8%\r######################################################################### 100.0%\n",
            "#=#=#                                                                          \r\r######################################################################### 100.0%\r                                                                            0.0%\r####################                                                       28.1%\r#############################                                              40.1%\r#############################################                              62.0%\r########################################################                   76.9%\r######################################################################### 100.0%\n"
          ],
          "name": "stderr"
        },
        {
          "output_type": "execute_result",
          "data": {
            "text/plain": [
              "BenchmarkTools.Trial: \n",
              "  memory estimate:  336 bytes\n",
              "  allocs estimate:  7\n",
              "  --------------\n",
              "  minimum time:     607.760 μs (0.00% GC)\n",
              "  median time:      678.832 μs (0.00% GC)\n",
              "  mean time:        705.234 μs (0.12% GC)\n",
              "  maximum time:     6.107 ms (0.00% GC)\n",
              "  --------------\n",
              "  samples:          7014\n",
              "  evals/sample:     1"
            ]
          },
          "metadata": {
            "tags": []
          },
          "execution_count": 9
        }
      ]
    },
    {
      "cell_type": "markdown",
      "metadata": {
        "colab_type": "text",
        "id": "_Nhmie2E10dq"
      },
      "source": [
        "The CuArrray operation should take around 1 ms, and should be much faster. If so, the GPU is working."
      ]
    },
    {
      "cell_type": "code",
      "metadata": {
        "id": "Hx-GFOG8KEe4",
        "colab_type": "code",
        "colab": {}
      },
      "source": [
        ""
      ],
      "execution_count": 0,
      "outputs": []
    }
  ]
}
