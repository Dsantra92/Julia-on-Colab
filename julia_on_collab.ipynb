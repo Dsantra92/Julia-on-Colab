{
 "cells": [
  {
   "cell_type": "code",
   "execution_count": 0,
   "metadata": {
    "colab": {},
    "colab_type": "code",
    "id": "PMGwZ7aFJL8Y"
   },
   "outputs": [],
   "source": [
    "# Installation cell\n",
    "%%shell\n",
    "if ! command -v julia 3>&1 > /dev/null\n",
    "then\n",
    "    wget 'https://julialang-s3.julialang.org/bin/linux/x64/1.5/julia-1.5.0-linux-x86_64.tar.gz' \\\n",
    "        -O /tmp/julia.tar.gz\n",
    "    tar -x -f /tmp/julia.tar.gz -C /usr/local --strip-components 1\n",
    "    rm /tmp/julia.tar.gz\n",
    "fi\n",
    "julia -e 'using Pkg; pkg\"add IJulia; precompile;\"'\n",
    "echo 'Done'"
   ]
  },
  {
   "cell_type": "markdown",
   "metadata": {
    "colab_type": "text",
    "id": "XdMpcQduyaQc"
   },
   "source": [
    "After you run the first cell (the the cell directly above this text), go to Colab's menu bar and select **Edit** and select **Notebook settings** from the drop down. Select *Julia 1.5.0* as the runtime and *GPU* as the hadware accelerator.\n",
    "\n",
    "<br/>You should see somthing like this:\n",
    "\n",
    "> ![Colab Img](https://drive.google.com/uc?id=1D6j-YN24VrsRXlGQ6dZPPrbTCTXk5SfN)\n",
    "<br/>Click on SAVE\n",
    "<br/>**We are ready to get going**\n",
    "\n",
    "\n",
    "\n"
   ]
  },
  {
   "cell_type": "code",
   "execution_count": 0,
   "metadata": {
    "colab": {},
    "colab_type": "code",
    "id": "iIxu4TjlJnBG"
   },
   "outputs": [],
   "source": [
    "#Julia 1.5 Environment\n",
    "using Pkg\n",
    "pkg\"add BenchmarkTools; precompile;\"\n",
    "pkg\"add CuArrays; precompile;\""
   ]
  },
  {
   "cell_type": "markdown",
   "metadata": {
    "colab_type": "text",
    "id": "rR7Ox6Ax0ypi"
   },
   "source": [
    "The main reason we are interested in running Julia on Colab is the GPU functionality. We have already installed libraries in the previous cell, so let's benchmark Colab's GPU performance:"
   ]
  },
  {
   "cell_type": "code",
   "execution_count": 0,
   "metadata": {
    "colab": {},
    "colab_type": "code",
    "id": "aMI2QjTuyXs2"
   },
   "outputs": [],
   "source": [
    "using BenchmarkTools\n",
    "\n",
    "mcpu = rand(2^10, 2^10)\n",
    "@benchmark mcpu*mcpu"
   ]
  },
  {
   "cell_type": "code",
   "execution_count": 0,
   "metadata": {
    "colab": {},
    "colab_type": "code",
    "id": "8cbQqjGB0Otl"
   },
   "outputs": [],
   "source": [
    "using CuArrays\n",
    "\n",
    "mgpu = cu(mcpu)\n",
    "@benchmark CuArrays.@sync mgpu*mgpu"
   ]
  },
  {
   "cell_type": "markdown",
   "metadata": {
    "colab_type": "text",
    "id": "_Nhmie2E10dq"
   },
   "source": [
    "The CuArrray operation should take around 1 ms(excluding CUDA downloading time which is a one time process), and should be much faster. If so, the GPU is working."
   ]
  },
  {
   "cell_type": "code",
   "execution_count": 0,
   "metadata": {
    "colab": {},
    "colab_type": "code",
    "id": "IP5pYzJKAwOX"
   },
   "outputs": [],
   "source": []
  }
 ],
 "metadata": {
  "accelerator": "GPU",
  "colab": {
   "name": "julia_on_collab.ipynb",
   "provenance": []
  },
  "kernelspec": {
   "display_name": "Julia 1.5.0",
   "language": "julia",
   "name": "julia-1.5"
  },
  "language_info": {
   "file_extension": ".jl",
   "mimetype": "application/julia",
   "name": "julia",
   "version": "1.5.0"
  }
 },
 "nbformat": 4,
 "nbformat_minor": 1
}
